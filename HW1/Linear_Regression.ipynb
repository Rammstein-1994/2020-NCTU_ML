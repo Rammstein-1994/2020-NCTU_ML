{
  "nbformat": 4,
  "nbformat_minor": 0,
  "metadata": {
    "colab": {
      "name": " Linear Regression.ipynb",
      "provenance": [],
      "collapsed_sections": [],
      "toc_visible": true
    },
    "kernelspec": {
      "name": "python3",
      "display_name": "Python 3"
    },
    "language_info": {
      "name": "python"
    },
    "widgets": {
      "application/vnd.jupyter.widget-state+json": {
        "4617fa1aca914f289c15963203f00bed": {
          "model_module": "@jupyter-widgets/controls",
          "model_name": "HBoxModel",
          "state": {
            "_view_name": "HBoxView",
            "_dom_classes": [],
            "_model_name": "HBoxModel",
            "_view_module": "@jupyter-widgets/controls",
            "_model_module_version": "1.5.0",
            "_view_count": null,
            "_view_module_version": "1.5.0",
            "box_style": "",
            "layout": "IPY_MODEL_cd8f5750b42f47039a661309fbe3125c",
            "_model_module": "@jupyter-widgets/controls",
            "children": [
              "IPY_MODEL_2cb1166f627841349df1455cd9722ded",
              "IPY_MODEL_42cf6c4941294aabb882d9d39da6d31d"
            ]
          }
        },
        "cd8f5750b42f47039a661309fbe3125c": {
          "model_module": "@jupyter-widgets/base",
          "model_name": "LayoutModel",
          "state": {
            "_view_name": "LayoutView",
            "grid_template_rows": null,
            "right": null,
            "justify_content": null,
            "_view_module": "@jupyter-widgets/base",
            "overflow": null,
            "_model_module_version": "1.2.0",
            "_view_count": null,
            "flex_flow": null,
            "width": null,
            "min_width": null,
            "border": null,
            "align_items": null,
            "bottom": null,
            "_model_module": "@jupyter-widgets/base",
            "top": null,
            "grid_column": null,
            "overflow_y": null,
            "overflow_x": null,
            "grid_auto_flow": null,
            "grid_area": null,
            "grid_template_columns": null,
            "flex": null,
            "_model_name": "LayoutModel",
            "justify_items": null,
            "grid_row": null,
            "max_height": null,
            "align_content": null,
            "visibility": null,
            "align_self": null,
            "height": null,
            "min_height": null,
            "padding": null,
            "grid_auto_rows": null,
            "grid_gap": null,
            "max_width": null,
            "order": null,
            "_view_module_version": "1.2.0",
            "grid_template_areas": null,
            "object_position": null,
            "object_fit": null,
            "grid_auto_columns": null,
            "margin": null,
            "display": null,
            "left": null
          }
        },
        "2cb1166f627841349df1455cd9722ded": {
          "model_module": "@jupyter-widgets/controls",
          "model_name": "FloatProgressModel",
          "state": {
            "_view_name": "ProgressView",
            "style": "IPY_MODEL_db6d48a1bed342d7a390cf66da5d6405",
            "_dom_classes": [],
            "description": "100%",
            "_model_name": "FloatProgressModel",
            "bar_style": "success",
            "max": 9,
            "_view_module": "@jupyter-widgets/controls",
            "_model_module_version": "1.5.0",
            "value": 9,
            "_view_count": null,
            "_view_module_version": "1.5.0",
            "orientation": "horizontal",
            "min": 0,
            "description_tooltip": null,
            "_model_module": "@jupyter-widgets/controls",
            "layout": "IPY_MODEL_e2ebec4e46934d23808c574b47d303ff"
          }
        },
        "42cf6c4941294aabb882d9d39da6d31d": {
          "model_module": "@jupyter-widgets/controls",
          "model_name": "HTMLModel",
          "state": {
            "_view_name": "HTMLView",
            "style": "IPY_MODEL_31c3271dad754595b0f13816d50ca58c",
            "_dom_classes": [],
            "description": "",
            "_model_name": "HTMLModel",
            "placeholder": "​",
            "_view_module": "@jupyter-widgets/controls",
            "_model_module_version": "1.5.0",
            "value": " 9/9 [08:00&lt;00:00, 53.40s/it]",
            "_view_count": null,
            "_view_module_version": "1.5.0",
            "description_tooltip": null,
            "_model_module": "@jupyter-widgets/controls",
            "layout": "IPY_MODEL_cca05643243d435896987ff875c2c27c"
          }
        },
        "db6d48a1bed342d7a390cf66da5d6405": {
          "model_module": "@jupyter-widgets/controls",
          "model_name": "ProgressStyleModel",
          "state": {
            "_view_name": "StyleView",
            "_model_name": "ProgressStyleModel",
            "description_width": "initial",
            "_view_module": "@jupyter-widgets/base",
            "_model_module_version": "1.5.0",
            "_view_count": null,
            "_view_module_version": "1.2.0",
            "bar_color": null,
            "_model_module": "@jupyter-widgets/controls"
          }
        },
        "e2ebec4e46934d23808c574b47d303ff": {
          "model_module": "@jupyter-widgets/base",
          "model_name": "LayoutModel",
          "state": {
            "_view_name": "LayoutView",
            "grid_template_rows": null,
            "right": null,
            "justify_content": null,
            "_view_module": "@jupyter-widgets/base",
            "overflow": null,
            "_model_module_version": "1.2.0",
            "_view_count": null,
            "flex_flow": null,
            "width": null,
            "min_width": null,
            "border": null,
            "align_items": null,
            "bottom": null,
            "_model_module": "@jupyter-widgets/base",
            "top": null,
            "grid_column": null,
            "overflow_y": null,
            "overflow_x": null,
            "grid_auto_flow": null,
            "grid_area": null,
            "grid_template_columns": null,
            "flex": null,
            "_model_name": "LayoutModel",
            "justify_items": null,
            "grid_row": null,
            "max_height": null,
            "align_content": null,
            "visibility": null,
            "align_self": null,
            "height": null,
            "min_height": null,
            "padding": null,
            "grid_auto_rows": null,
            "grid_gap": null,
            "max_width": null,
            "order": null,
            "_view_module_version": "1.2.0",
            "grid_template_areas": null,
            "object_position": null,
            "object_fit": null,
            "grid_auto_columns": null,
            "margin": null,
            "display": null,
            "left": null
          }
        },
        "31c3271dad754595b0f13816d50ca58c": {
          "model_module": "@jupyter-widgets/controls",
          "model_name": "DescriptionStyleModel",
          "state": {
            "_view_name": "StyleView",
            "_model_name": "DescriptionStyleModel",
            "description_width": "",
            "_view_module": "@jupyter-widgets/base",
            "_model_module_version": "1.5.0",
            "_view_count": null,
            "_view_module_version": "1.2.0",
            "_model_module": "@jupyter-widgets/controls"
          }
        },
        "cca05643243d435896987ff875c2c27c": {
          "model_module": "@jupyter-widgets/base",
          "model_name": "LayoutModel",
          "state": {
            "_view_name": "LayoutView",
            "grid_template_rows": null,
            "right": null,
            "justify_content": null,
            "_view_module": "@jupyter-widgets/base",
            "overflow": null,
            "_model_module_version": "1.2.0",
            "_view_count": null,
            "flex_flow": null,
            "width": null,
            "min_width": null,
            "border": null,
            "align_items": null,
            "bottom": null,
            "_model_module": "@jupyter-widgets/base",
            "top": null,
            "grid_column": null,
            "overflow_y": null,
            "overflow_x": null,
            "grid_auto_flow": null,
            "grid_area": null,
            "grid_template_columns": null,
            "flex": null,
            "_model_name": "LayoutModel",
            "justify_items": null,
            "grid_row": null,
            "max_height": null,
            "align_content": null,
            "visibility": null,
            "align_self": null,
            "height": null,
            "min_height": null,
            "padding": null,
            "grid_auto_rows": null,
            "grid_gap": null,
            "max_width": null,
            "order": null,
            "_view_module_version": "1.2.0",
            "grid_template_areas": null,
            "object_position": null,
            "object_fit": null,
            "grid_auto_columns": null,
            "margin": null,
            "display": null,
            "left": null
          }
        },
        "a5424be6375a4bf498c857f30ae9c9f5": {
          "model_module": "@jupyter-widgets/controls",
          "model_name": "HBoxModel",
          "state": {
            "_view_name": "HBoxView",
            "_dom_classes": [],
            "_model_name": "HBoxModel",
            "_view_module": "@jupyter-widgets/controls",
            "_model_module_version": "1.5.0",
            "_view_count": null,
            "_view_module_version": "1.5.0",
            "box_style": "",
            "layout": "IPY_MODEL_375a2c4d75c646e0b05364df0e38cd6a",
            "_model_module": "@jupyter-widgets/controls",
            "children": [
              "IPY_MODEL_4d2827e296b249699c95d2db1930202b",
              "IPY_MODEL_3eca743f9cbe48329c32d711266ca637"
            ]
          }
        },
        "375a2c4d75c646e0b05364df0e38cd6a": {
          "model_module": "@jupyter-widgets/base",
          "model_name": "LayoutModel",
          "state": {
            "_view_name": "LayoutView",
            "grid_template_rows": null,
            "right": null,
            "justify_content": null,
            "_view_module": "@jupyter-widgets/base",
            "overflow": null,
            "_model_module_version": "1.2.0",
            "_view_count": null,
            "flex_flow": null,
            "width": null,
            "min_width": null,
            "border": null,
            "align_items": null,
            "bottom": null,
            "_model_module": "@jupyter-widgets/base",
            "top": null,
            "grid_column": null,
            "overflow_y": null,
            "overflow_x": null,
            "grid_auto_flow": null,
            "grid_area": null,
            "grid_template_columns": null,
            "flex": null,
            "_model_name": "LayoutModel",
            "justify_items": null,
            "grid_row": null,
            "max_height": null,
            "align_content": null,
            "visibility": null,
            "align_self": null,
            "height": null,
            "min_height": null,
            "padding": null,
            "grid_auto_rows": null,
            "grid_gap": null,
            "max_width": null,
            "order": null,
            "_view_module_version": "1.2.0",
            "grid_template_areas": null,
            "object_position": null,
            "object_fit": null,
            "grid_auto_columns": null,
            "margin": null,
            "display": null,
            "left": null
          }
        },
        "4d2827e296b249699c95d2db1930202b": {
          "model_module": "@jupyter-widgets/controls",
          "model_name": "FloatProgressModel",
          "state": {
            "_view_name": "ProgressView",
            "style": "IPY_MODEL_238244f60e474ddcb871a966d40cfc22",
            "_dom_classes": [],
            "description": "100%",
            "_model_name": "FloatProgressModel",
            "bar_style": "success",
            "max": 9,
            "_view_module": "@jupyter-widgets/controls",
            "_model_module_version": "1.5.0",
            "value": 9,
            "_view_count": null,
            "_view_module_version": "1.5.0",
            "orientation": "horizontal",
            "min": 0,
            "description_tooltip": null,
            "_model_module": "@jupyter-widgets/controls",
            "layout": "IPY_MODEL_5507efc25936431d91ef28a562246e1e"
          }
        },
        "3eca743f9cbe48329c32d711266ca637": {
          "model_module": "@jupyter-widgets/controls",
          "model_name": "HTMLModel",
          "state": {
            "_view_name": "HTMLView",
            "style": "IPY_MODEL_de3822771a58439a8f13210d679e7b01",
            "_dom_classes": [],
            "description": "",
            "_model_name": "HTMLModel",
            "placeholder": "​",
            "_view_module": "@jupyter-widgets/controls",
            "_model_module_version": "1.5.0",
            "value": " 9/9 [05:17&lt;00:00, 35.25s/it]",
            "_view_count": null,
            "_view_module_version": "1.5.0",
            "description_tooltip": null,
            "_model_module": "@jupyter-widgets/controls",
            "layout": "IPY_MODEL_3fd1f3da1bf4403a936f317178668ce4"
          }
        },
        "238244f60e474ddcb871a966d40cfc22": {
          "model_module": "@jupyter-widgets/controls",
          "model_name": "ProgressStyleModel",
          "state": {
            "_view_name": "StyleView",
            "_model_name": "ProgressStyleModel",
            "description_width": "initial",
            "_view_module": "@jupyter-widgets/base",
            "_model_module_version": "1.5.0",
            "_view_count": null,
            "_view_module_version": "1.2.0",
            "bar_color": null,
            "_model_module": "@jupyter-widgets/controls"
          }
        },
        "5507efc25936431d91ef28a562246e1e": {
          "model_module": "@jupyter-widgets/base",
          "model_name": "LayoutModel",
          "state": {
            "_view_name": "LayoutView",
            "grid_template_rows": null,
            "right": null,
            "justify_content": null,
            "_view_module": "@jupyter-widgets/base",
            "overflow": null,
            "_model_module_version": "1.2.0",
            "_view_count": null,
            "flex_flow": null,
            "width": null,
            "min_width": null,
            "border": null,
            "align_items": null,
            "bottom": null,
            "_model_module": "@jupyter-widgets/base",
            "top": null,
            "grid_column": null,
            "overflow_y": null,
            "overflow_x": null,
            "grid_auto_flow": null,
            "grid_area": null,
            "grid_template_columns": null,
            "flex": null,
            "_model_name": "LayoutModel",
            "justify_items": null,
            "grid_row": null,
            "max_height": null,
            "align_content": null,
            "visibility": null,
            "align_self": null,
            "height": null,
            "min_height": null,
            "padding": null,
            "grid_auto_rows": null,
            "grid_gap": null,
            "max_width": null,
            "order": null,
            "_view_module_version": "1.2.0",
            "grid_template_areas": null,
            "object_position": null,
            "object_fit": null,
            "grid_auto_columns": null,
            "margin": null,
            "display": null,
            "left": null
          }
        },
        "de3822771a58439a8f13210d679e7b01": {
          "model_module": "@jupyter-widgets/controls",
          "model_name": "DescriptionStyleModel",
          "state": {
            "_view_name": "StyleView",
            "_model_name": "DescriptionStyleModel",
            "description_width": "",
            "_view_module": "@jupyter-widgets/base",
            "_model_module_version": "1.5.0",
            "_view_count": null,
            "_view_module_version": "1.2.0",
            "_model_module": "@jupyter-widgets/controls"
          }
        },
        "3fd1f3da1bf4403a936f317178668ce4": {
          "model_module": "@jupyter-widgets/base",
          "model_name": "LayoutModel",
          "state": {
            "_view_name": "LayoutView",
            "grid_template_rows": null,
            "right": null,
            "justify_content": null,
            "_view_module": "@jupyter-widgets/base",
            "overflow": null,
            "_model_module_version": "1.2.0",
            "_view_count": null,
            "flex_flow": null,
            "width": null,
            "min_width": null,
            "border": null,
            "align_items": null,
            "bottom": null,
            "_model_module": "@jupyter-widgets/base",
            "top": null,
            "grid_column": null,
            "overflow_y": null,
            "overflow_x": null,
            "grid_auto_flow": null,
            "grid_area": null,
            "grid_template_columns": null,
            "flex": null,
            "_model_name": "LayoutModel",
            "justify_items": null,
            "grid_row": null,
            "max_height": null,
            "align_content": null,
            "visibility": null,
            "align_self": null,
            "height": null,
            "min_height": null,
            "padding": null,
            "grid_auto_rows": null,
            "grid_gap": null,
            "max_width": null,
            "order": null,
            "_view_module_version": "1.2.0",
            "grid_template_areas": null,
            "object_position": null,
            "object_fit": null,
            "grid_auto_columns": null,
            "margin": null,
            "display": null,
            "left": null
          }
        }
      }
    }
  },
  "cells": [
    {
      "cell_type": "markdown",
      "metadata": {
        "id": "LVr5AKiS1Bg4"
      },
      "source": [
        "# Linear Regression"
      ]
    },
    {
      "cell_type": "code",
      "metadata": {
        "id": "2SJceajr06ao"
      },
      "source": [
        "import os\n",
        "import itertools\n",
        "import numpy as np\n",
        "import pandas as pd\n",
        "import matplotlib.pyplot as plt\n",
        "from tqdm.notebook import tqdm\n",
        "plt.style.use('seaborn')"
      ],
      "execution_count": null,
      "outputs": []
    },
    {
      "cell_type": "markdown",
      "metadata": {
        "id": "-hyPk_BU6_eC"
      },
      "source": [
        "## Load Data"
      ]
    },
    {
      "cell_type": "code",
      "metadata": {
        "colab": {
          "base_uri": "https://localhost:8080/"
        },
        "id": "DknHeQH73g65",
        "outputId": "556bbc96-c6a0-4ae6-9d9f-6cfba26dca5c"
      },
      "source": [
        "def load_data(data_path):\n",
        "    data = pd.read_csv(os.path.join(data_path, 'data_X.csv')).drop(['Serial_id'], axis=1)\n",
        "    target = pd.read_csv(os.path.join(data_path, 'data_T.csv')).drop(['Serial_id'], axis=1)\n",
        "    return data, target\n",
        "\n",
        "DATA_DIR = '/content/drive/MyDrive/ColabNotebooks/簡仁宗 深度學習+機器學習/ML_HW1/dataset'\n",
        "data, target = load_data(DATA_DIR)\n",
        "\n",
        "# pd.dataframe to np.array\n",
        "X, y = data.values, target.values\n",
        "print(X.shape, y.shape)"
      ],
      "execution_count": null,
      "outputs": [
        {
          "output_type": "stream",
          "text": [
            "(500, 7) (500, 1)\n"
          ],
          "name": "stdout"
        }
      ]
    },
    {
      "cell_type": "markdown",
      "metadata": {
        "id": "qKdyHiWojm54"
      },
      "source": [
        "## Preprocessing"
      ]
    },
    {
      "cell_type": "code",
      "metadata": {
        "id": "t5ekEOnxjpWK"
      },
      "source": [
        "class Preprocessing:\n",
        "\n",
        "    def standar_normalize(self, X):\n",
        "        \"\"\"Standard Normalize\"\"\"\n",
        "        mean = np.mean(X, axis=0)\n",
        "        std = np.std(X, axis=0)\n",
        "        return (X - mean) / std\n",
        "\n",
        "    def minmax_normalize(self, X):\n",
        "        \"\"\"Min-Max Normalize\"\"\"\n",
        "        max = np.amax(X, axis=0)\n",
        "        min = np.amin(X, axis=0)\n",
        "        return (X - min) / (max - min)\n",
        "        \n",
        "# preprocessing\n",
        "preprocessing = Preprocessing()\n",
        "X = preprocessing.standar_normalize(X)"
      ],
      "execution_count": null,
      "outputs": []
    },
    {
      "cell_type": "markdown",
      "metadata": {
        "id": "qQgguQVlq7bo"
      },
      "source": [
        "## Basis Function"
      ]
    },
    {
      "cell_type": "code",
      "metadata": {
        "id": "aS1K-1hbq_dl"
      },
      "source": [
        "class Basisfunction:\n",
        "    def __init__(self, X):\n",
        "        self.X = X\n",
        "        self.mean = np.mean(self.X, axis=0)\n",
        "        self.std = np.std(self.X, axis=0)\n",
        "    \n",
        "    def linear(self):\n",
        "        return self.X\n",
        "\n",
        "    def gaussian(self):\n",
        "        return np.exp(-(self.X - self.mean)**2 / 2*self.std**2) \n",
        "    \n",
        "    def sigmoid(self):\n",
        "        return self._sigmoid((self.X - self.mean) / self.std)\n",
        "\n",
        "    @staticmethod\n",
        "    def _sigmoid(x):\n",
        "        return 1 / (1 + np.exp(-x))"
      ],
      "execution_count": null,
      "outputs": []
    },
    {
      "cell_type": "markdown",
      "metadata": {
        "id": "OITaEZLD7klK"
      },
      "source": [
        "## Split Data"
      ]
    },
    {
      "cell_type": "code",
      "metadata": {
        "id": "p2xua9uF159e"
      },
      "source": [
        "def train_test_split(X, y, test_size=0.2, shuffle=False, random_state=None):\n",
        "    \"\"\"X shape: (sample_size, n_features)\"\"\"\n",
        "    sample_size = X.shape[0]\n",
        "    split_size = int(sample_size * test_size)\n",
        "\n",
        "    if random_state is not None:\n",
        "        np.random.seed(random_state)\n",
        "\n",
        "    if shuffle:\n",
        "        idx = np.arange(sample_size)\n",
        "        np.random.shuffle(idx)\n",
        "        X = X[idx]\n",
        "        y = y[idx]\n",
        "\n",
        "    # split data\n",
        "    x_train, x_test = X[split_size:], X[:split_size]\n",
        "    y_train, y_test = y[split_size:], y[:split_size]\n",
        "\n",
        "    return x_train, x_test, y_train, y_test"
      ],
      "execution_count": null,
      "outputs": []
    },
    {
      "cell_type": "markdown",
      "metadata": {
        "id": "tiY3Dn8lFFpp"
      },
      "source": [
        "## K-fold"
      ]
    },
    {
      "cell_type": "code",
      "metadata": {
        "id": "PMApfCp4Ye2J"
      },
      "source": [
        "class KFold:\n",
        "    def __init__(self, n_splits=3, *, shuffle=False, random_state=None):\n",
        "        \n",
        "        if n_splits <= 1:\n",
        "            raise ValueError(\"train/test split by setting n_splits=2 or more\")\n",
        "\n",
        "        if not shuffle and random_state is not None:  # None is the default\n",
        "            raise ValueError('Setting a random_state has no effect since shuffle is False.')\n",
        "\n",
        "        self.n_splits = n_splits\n",
        "        self.shuffle = shuffle\n",
        "        self.random_state = random_state\n",
        "    \n",
        "    def get_n_splits(self):\n",
        "        return self.n_splits\n",
        "\n",
        "    def split(self, X):\n",
        "        \"\"\"return list of k-fold ideices for train and test\"\"\"\n",
        "        self.n_samples = len(X)\n",
        "        self.indices = np.arange(self.n_samples)\n",
        "        train_list = []\n",
        "        test_list = []\n",
        "\n",
        "        if self.shuffle:\n",
        "            np.random.RandomState(self.random_state).shuffle(self.indices)\n",
        "\n",
        "        for test_index in self.test_mask():\n",
        "            training_index = self.indices[np.logical_not(test_index)]\n",
        "            testing_index = self.indices[(test_index)]\n",
        "            train_list.append(training_index)\n",
        "            test_list.append(testing_index)\n",
        "\n",
        "        return train_list, test_list\n",
        "        \n",
        "    \n",
        "    def test_mask(self):\n",
        "        mask_list = []\n",
        "        for test_index in self.test_indices(): \n",
        "            test_mask = np.zeros(self.n_samples, dtype=bool)\n",
        "            test_mask[test_index] = True\n",
        "            mask_list.append(test_mask)\n",
        "\n",
        "        return mask_list\n",
        "    \n",
        "    def test_indices(self):\n",
        "        n_splits = self.n_splits\n",
        "        fold_sizes = np.full(n_splits, self.n_samples//n_splits, dtype=int)\n",
        "        fold_sizes[:self.n_samples % n_splits] += 1\n",
        "        current = 0\n",
        "        test_idx = []\n",
        "        for fold_size in fold_sizes:\n",
        "            start, stop = current, current + fold_size\n",
        "            test_idx.append(self.indices[start:stop])\n",
        "            current = stop\n",
        "        \n",
        "        return test_idx"
      ],
      "execution_count": null,
      "outputs": []
    },
    {
      "cell_type": "markdown",
      "metadata": {
        "id": "tVHgObFJ9C4K"
      },
      "source": [
        "## Polynomial Features"
      ]
    },
    {
      "cell_type": "code",
      "metadata": {
        "id": "7ZRmgLAK7iXU"
      },
      "source": [
        "import numpy as np\n",
        "\n",
        "def factorial(n):\n",
        "    return np.array([1 if (n==1 or n==0) else n * factorial(n - 1)])\n",
        "\n",
        "class PolynomialFeatures:\n",
        "\n",
        "    def __init__(self, degree=2):\n",
        "        self.degree = degree\n",
        "\n",
        "    def fit(self, X):\n",
        "        \"\"\"\n",
        "        X shape (N, M),\n",
        "        N is sample size and M is feature size.\n",
        "        output = (n+d)!/d!n!\n",
        "        \"\"\"\n",
        "        self.n_features = X.shape[1]\n",
        "        # calculate number of output feature size\n",
        "        numerator = factorial(self.n_features + self.degree)\n",
        "        denominator = factorial(self.degree) * factorial(self.n_features)\n",
        "        self.n_output_features = int(numerator / denominator) - 1\n",
        "    \n",
        "    def transform(self, X):\n",
        "        \"\"\"transform to new features\"\"\"\n",
        "        # combos is list of tuples indices to calculate polynomial features\n",
        "        combos = [itertools.combinations_with_replacement(range(self.n_features), idx)\n",
        "                for idx in range(1, self.degree+1)]\n",
        "        # Create list of tuples containing feature index combinations.\n",
        "        combinations = [item for sublist in combos for item in sublist]\n",
        "        # to store new array from transformation\n",
        "        X_new = np.empty((X.shape[0], self.n_output_features))\n",
        "\n",
        "        for i, index_combos in enumerate(combinations):\n",
        "            # np.pord can product specific axis\n",
        "            X_new[:, i] = np.prod(X[:, index_combos], axis=1)\n",
        "\n",
        "        return X_new\n",
        "    \n",
        "    def fit_transform(self, X):\n",
        "        self.fit(X)\n",
        "        return self.transform(X)"
      ],
      "execution_count": null,
      "outputs": []
    },
    {
      "cell_type": "markdown",
      "metadata": {
        "id": "lon0LUYW9O8s"
      },
      "source": [
        "## Linear Regression Model"
      ]
    },
    {
      "cell_type": "code",
      "metadata": {
        "id": "GPjHrR00-yKo"
      },
      "source": [
        "import numpy as np\n",
        "\n",
        "\n",
        "def rmse(y_true, y_pred):\n",
        "        return np.sqrt(np.mean((y_true - y_pred)**2))\n",
        "\n",
        "\n",
        "def accuracy(y_true, y_pred):\n",
        "    \"\"\"precision can definite by yourself\"\"\"\n",
        "    precision = np.std(y_true) # using one standard diveation as bound\n",
        "    pred_acc = np.absolute(y_pred - y_true) < precision\n",
        "    return 100 * np.mean(pred_acc) # return percentage\n",
        "\n",
        "\n",
        "class LinearRegression:\n",
        "    \"\"\"Linear Regression\n",
        "    There are two method to find parameters:\n",
        "    if ls_method = True, model will using least squares solution,\n",
        "    if ls_method = False, model will using gradient decent.\n",
        "    \"\"\"\n",
        "    def __init__(self, lr=0.001, n_iter=1000, beta=0):\n",
        "        \"\"\" LinearRegression + Regularization \n",
        "        beta is regularization hyper-parameters,\n",
        "        beta defalt is 0 which means not using regularization.\n",
        "        \"\"\"\n",
        "        self.beta = beta\n",
        "        self.lr = lr\n",
        "        self.n_iter = n_iter\n",
        "        self.weights = None\n",
        "        self.bias = None\n",
        "    \n",
        "    def fit(self, X, y, *, ls_method=False, clip_gradient=False):\n",
        "        self.clip_gradient = clip_gradient\n",
        "        self.sample_size, self.n_features = X.shape\n",
        "\n",
        "        # Usning Normal Equation to find w*, b*\n",
        "        if ls_method:\n",
        "            # update parameters\n",
        "            self.bias, self.weights = self.least_squares_solution(X, y)\n",
        "        \n",
        "        # Gradient Decent\n",
        "        else:\n",
        "            # inintialize weight\n",
        "            self.weights = np.random.randn(self.n_features, 1)\n",
        "            self.bias = 0\n",
        "            \n",
        "            # training loop\n",
        "            for _ in range(self.n_iter):\n",
        "                self.update_param(X, y)\n",
        "\n",
        "    def predict(self, X):\n",
        "        return np.dot(X, self.weights) + self.bias\n",
        "    \n",
        "    def least_squares_solution(self, X, y):\n",
        "        \"\"\"return least squares solution\n",
        "        note. invers_term will add a small number to make noise,\n",
        "        this can help find inverse of inv(phi*phi).\n",
        "        \"\"\"\n",
        "        bias_inputs = np.ones((self.sample_size, 1))\n",
        "        phi = np.concatenate((bias_inputs, X), axis=1)\n",
        "        invers_term = np.linalg.inv(self.beta * np.eye(self.n_features+1) + np.dot(phi.T, phi) \n",
        "            + 1e-7 * np.random.randn(self.n_features+1))\n",
        "        w = np.dot(invers_term, np.dot(phi.T, y))\n",
        "        return w[0], w[1:]\n",
        "    \n",
        "    def update_param(self, X, y):\n",
        "        y_hat = np.dot(X, self.weights) + self.bias # 500x1\n",
        "\n",
        "        # differential weight & bias\n",
        "        dw =(1/self.sample_size) * np.dot(X.T, (y_hat - y)) + self.beta*self.weights # 7x1\n",
        "        db =(1/self.sample_size) * np.sum(y_hat - y)\n",
        "        \n",
        "        # clip gradient to prevent gradient exploding\n",
        "        if self.clip_gradient:\n",
        "            dw = np.clip(dw, 1e-7, 1)\n",
        "            db = np.clip(db, 1e-7, 1)\n",
        "\n",
        "        # update parameters\n",
        "        self.weights -= self.lr * dw\n",
        "        self.bias -= self.lr * db"
      ],
      "execution_count": null,
      "outputs": []
    },
    {
      "cell_type": "markdown",
      "metadata": {
        "id": "1b1tgbqmrDDz"
      },
      "source": [
        "## **2-1 Feature select**"
      ]
    },
    {
      "cell_type": "markdown",
      "metadata": {
        "id": "8b13X_PQrVyQ"
      },
      "source": [
        "### (a) Evaluate the corresponding RMS error"
      ]
    },
    {
      "cell_type": "markdown",
      "metadata": {
        "id": "hcmVIhcG1yBK"
      },
      "source": [
        "**M = 1**"
      ]
    },
    {
      "cell_type": "code",
      "metadata": {
        "colab": {
          "base_uri": "https://localhost:8080/"
        },
        "id": "ASHzMtDCArVG",
        "outputId": "69c748ff-f43b-4372-875d-f2002a8ec77a"
      },
      "source": [
        "x_train, x_test, y_train, y_test = train_test_split(X, y, test_size=0.2, shuffle=True, random_state=1)\n",
        "print(x_train.shape, y_train.shape)\n",
        "print(x_test.shape, y_test.shape)"
      ],
      "execution_count": null,
      "outputs": [
        {
          "output_type": "stream",
          "text": [
            "(400, 7) (400, 1)\n",
            "(100, 7) (100, 1)\n"
          ],
          "name": "stdout"
        }
      ]
    },
    {
      "cell_type": "code",
      "metadata": {
        "colab": {
          "base_uri": "https://localhost:8080/"
        },
        "id": "GNpfza80BYcN",
        "outputId": "e6244aa9-b956-4ce2-f04d-205b4f7e04df"
      },
      "source": [
        "# create Linear Regression model\n",
        "model = LinearRegression()\n",
        "model.fit(x_train, y_train, ls_method=True)\n",
        "\n",
        "# Root-mean square error\n",
        "y_pred = model.predict(x_train)\n",
        "acc = accuracy(y_train, y_pred)\n",
        "print(f'training RMSE: {rmse(y_train, y_pred)}')\n",
        "# # print(f'training acc: {acc}%')\n",
        "y_pred = model.predict(x_test)\n",
        "acc = accuracy(y_test, y_pred)\n",
        "print(f'testing RMSE: {rmse(y_test, y_pred)}')\n",
        "# # print(f'testing acc: {acc}%')"
      ],
      "execution_count": null,
      "outputs": [
        {
          "output_type": "stream",
          "text": [
            "training RMSE: 0.05977752557506849\n",
            "testing RMSE: 0.05881410458595826\n"
          ],
          "name": "stdout"
        }
      ]
    },
    {
      "cell_type": "markdown",
      "metadata": {
        "id": "V72Pn-WM10Ae"
      },
      "source": [
        "**M = 2**"
      ]
    },
    {
      "cell_type": "code",
      "metadata": {
        "id": "exB9Qcv510-Z",
        "colab": {
          "base_uri": "https://localhost:8080/"
        },
        "outputId": "e40c5012-a0f7-4f9a-c92f-66a0db2f24a6"
      },
      "source": [
        "transform = PolynomialFeatures(degree=2)\n",
        "X_M2 = transform.fit_transform(X)\n",
        "x_train, x_test, y_train, y_test = train_test_split(X_M2, y, test_size=0.2, shuffle=True, random_state=1)\n",
        "print(x_train.shape, y_train.shape)\n",
        "print(x_test.shape, y_test.shape)"
      ],
      "execution_count": null,
      "outputs": [
        {
          "output_type": "stream",
          "text": [
            "(400, 35) (400, 1)\n",
            "(100, 35) (100, 1)\n"
          ],
          "name": "stdout"
        }
      ]
    },
    {
      "cell_type": "code",
      "metadata": {
        "id": "f3_XKdKa_xdM",
        "colab": {
          "base_uri": "https://localhost:8080/"
        },
        "outputId": "d223fa71-0052-4823-a2ab-4fa2c5e7a88f"
      },
      "source": [
        "# create Linear Regression model\n",
        "model_M2 = LinearRegression()\n",
        "model_M2.fit(x_train, y_train, ls_method=True)\n",
        "\n",
        "# Root-mean square error\n",
        "y_pred = model_M2.predict(x_train)\n",
        "acc = accuracy(y_train, y_pred)\n",
        "print(f'training RMSE: {rmse(y_train, y_pred)}')\n",
        "# print(f'training acc: {acc}%')\n",
        "y_pred = model_M2.predict(x_test)\n",
        "acc = accuracy(y_test, y_pred)\n",
        "print(f'testing RMSE: {rmse(y_test, y_pred)}')\n",
        "# print(f'testing acc: {acc}%')"
      ],
      "execution_count": null,
      "outputs": [
        {
          "output_type": "stream",
          "text": [
            "training RMSE: 0.05707448002047349\n",
            "testing RMSE: 0.05833226919481011\n"
          ],
          "name": "stdout"
        }
      ]
    },
    {
      "cell_type": "markdown",
      "metadata": {
        "id": "Lt86mRp_h1Jr"
      },
      "source": [
        "### (b) Analysis M=1 and select the most contributive feature"
      ]
    },
    {
      "cell_type": "markdown",
      "metadata": {
        "id": "zBb3fv1LihuN"
      },
      "source": [
        "因為 model 是線性的，因此 feature 的參數就是對 model 的解釋力，\n",
        "\n",
        "參數越大代表解釋力越好，即貢獻度越高，\n",
        "\n",
        "由下表的結果可以發現， \t**CGPA** **is the most contributive feature.** "
      ]
    },
    {
      "cell_type": "code",
      "metadata": {
        "id": "dSl-1tqTixLY",
        "colab": {
          "base_uri": "https://localhost:8080/"
        },
        "outputId": "7595abe2-c268-43ad-a59e-766b0f680895"
      },
      "source": [
        "from prettytable import PrettyTable\n",
        "\n",
        "table = PrettyTable()\n",
        "table.title = 'Feature select'\n",
        "table.add_column('Features', *[list(data.columns)])\n",
        "table.add_column('Weights', np.round(*[model.weights.flatten().tolist()], 5))\n",
        "print(table)"
      ],
      "execution_count": null,
      "outputs": [
        {
          "output_type": "stream",
          "text": [
            "+-----------------------------+\n",
            "|        Feature select       |\n",
            "+-------------------+---------+\n",
            "|      Features     | Weights |\n",
            "+-------------------+---------+\n",
            "|     GRE_score     | 0.02067 |\n",
            "|    TOFEL_score    | 0.01928 |\n",
            "| University_rating |  0.007  |\n",
            "|        SOP        | 0.00298 |\n",
            "|        LOR        | 0.01334 |\n",
            "|        CGPA       | 0.07051 |\n",
            "|      Research     | 0.00987 |\n",
            "+-------------------+---------+\n"
          ],
          "name": "stdout"
        }
      ]
    },
    {
      "cell_type": "markdown",
      "metadata": {
        "id": "RTqVYlEjrZN7"
      },
      "source": [
        "## **2-2 Maximum likelihood approach**"
      ]
    },
    {
      "cell_type": "markdown",
      "metadata": {
        "id": "pB70VenH0wMc"
      },
      "source": [
        "### (a) Which basis function will you use?"
      ]
    },
    {
      "cell_type": "markdown",
      "metadata": {
        "id": "xylyO_4MQOuq"
      },
      "source": [
        "我先將 inputs 做 **Standard Normalization** 再使用 **sigmoid basis function** 做轉換，\n",
        "\n",
        "之後再將轉換完的數據進行 Linear Regression 分析.\n",
        "\n"
      ]
    },
    {
      "cell_type": "markdown",
      "metadata": {
        "id": "nXBgksW-rbxC"
      },
      "source": [
        "### (b) Using basis function and analyze the result"
      ]
    },
    {
      "cell_type": "code",
      "metadata": {
        "id": "l8raOcgDxFBW",
        "colab": {
          "base_uri": "https://localhost:8080/"
        },
        "outputId": "a4f694b7-8cf3-4f17-b927-396487b5d575"
      },
      "source": [
        "X, y = data.values, target.values\n",
        "\n",
        "# preprocessing\n",
        "preprocessing = Preprocessing()\n",
        "X = preprocessing.standar_normalize(X)\n",
        "\n",
        "# make design matrix phi\n",
        "basis_fn = Basisfunction(X)\n",
        "X = basis_fn.sigmoid()\n",
        "\n",
        "# split train test\n",
        "x_train, x_test, y_train, y_test = train_test_split(X, y, test_size=0.2, shuffle=True, random_state=1)\n",
        "\n",
        "# create Linear Regression model\n",
        "model_M = LinearRegression()\n",
        "model_M.fit(x_train, y_train, ls_method=True)\n",
        "\n",
        "# Root-mean square error\n",
        "train_pred = model_M.predict(x_train)\n",
        "test_pred = model_M.predict(x_test)\n",
        "\n",
        "print(f'【After using basis function】 training RMSE: {rmse(y_train, train_pred)}, \\\n",
        "    testing RMSE: {rmse(y_test, test_pred)}')"
      ],
      "execution_count": null,
      "outputs": [
        {
          "output_type": "stream",
          "text": [
            "【After using basis function】 training RMSE: 0.06074337426405264,     testing RMSE: 0.06006682258905472\n"
          ],
          "name": "stdout"
        }
      ]
    },
    {
      "cell_type": "markdown",
      "metadata": {
        "id": "YbFJ6Yr_0ydc"
      },
      "source": [
        "### (c)  N-fold cross-validation to choise hyper-parameters"
      ]
    },
    {
      "cell_type": "markdown",
      "metadata": {
        "id": "jvFsRLA6HHt1"
      },
      "source": [
        "N 設為 3"
      ]
    },
    {
      "cell_type": "code",
      "metadata": {
        "colab": {
          "base_uri": "https://localhost:8080/",
          "height": 217,
          "referenced_widgets": [
            "4617fa1aca914f289c15963203f00bed",
            "cd8f5750b42f47039a661309fbe3125c",
            "2cb1166f627841349df1455cd9722ded",
            "42cf6c4941294aabb882d9d39da6d31d",
            "db6d48a1bed342d7a390cf66da5d6405",
            "e2ebec4e46934d23808c574b47d303ff",
            "31c3271dad754595b0f13816d50ca58c",
            "cca05643243d435896987ff875c2c27c"
          ]
        },
        "id": "9vv0pm_r_Vwb",
        "outputId": "3f6d25e3-f834-4e7f-da92-e513d9f76a9d"
      },
      "source": [
        "X, y = data.values, target.values\n",
        "# preprocessing\n",
        "preprocessing = Preprocessing()\n",
        "X = preprocessing.standar_normalize(X)\n",
        "# Basisfunction\n",
        "basis_fn = Basisfunction(X)\n",
        "X = basis_fn.sigmoid()\n",
        "\n",
        "# k-fold cross-validattion index list\n",
        "kf = KFold(n_splits=3, shuffle=True, random_state=1)\n",
        "training_indices, test_indices = kf.split(X)\n",
        "\n",
        "total_trian_rmse = []\n",
        "total_test_rmse = []\n",
        "for m in tqdm(range(1, 10)):\n",
        "    train_rmse = []\n",
        "    test_rmse = []\n",
        "    for train_idx, test_idx in zip(training_indices, test_indices):\n",
        "        transform = PolynomialFeatures(degree=m)\n",
        "        polynomial_x = transform.fit_transform(X)\n",
        "        x_train, x_test = polynomial_x[train_idx], polynomial_x[test_idx]\n",
        "        y_train, y_test = y[train_idx], y[test_idx]\n",
        "\n",
        "        # create Linear Regression model\n",
        "        model_polynomial = LinearRegression()\n",
        "        model_polynomial.fit(x_train, y_train, ls_method=True)\n",
        "\n",
        "        # Root-mean square error\n",
        "        train_pred = model_polynomial.predict(x_train)\n",
        "        test_pred = model_polynomial.predict(x_test)\n",
        "        train_rmse.append(rmse(y_train, train_pred))\n",
        "        test_rmse.append(rmse(y_test, test_pred))\n",
        "    \n",
        "    average_train_rmse = sum(train_rmse) / len(training_indices)\n",
        "    average_test_rmse = sum(test_rmse) / len(training_indices)\n",
        "    total_trian_rmse.append(average_train_rmse)\n",
        "    total_test_rmse.append(average_test_rmse)\n",
        "    print(f'【M = {m}】 training RMSE: {average_train_rmse}, testing RMSE: {average_test_rmse}')"
      ],
      "execution_count": null,
      "outputs": [
        {
          "output_type": "display_data",
          "data": {
            "application/vnd.jupyter.widget-view+json": {
              "model_id": "4617fa1aca914f289c15963203f00bed",
              "version_minor": 0,
              "version_major": 2
            },
            "text/plain": [
              "HBox(children=(FloatProgress(value=0.0, max=9.0), HTML(value='')))"
            ]
          },
          "metadata": {
            "tags": []
          }
        },
        {
          "output_type": "stream",
          "text": [
            "【M = 1】 training RMSE: 0.060061399256568095, testing RMSE: 0.06279045003152113\n",
            "【M = 2】 training RMSE: 0.05694133781398183, testing RMSE: 0.06368960644806143\n",
            "【M = 3】 training RMSE: 3.6107705562782315, testing RMSE: 3.5811060523005183\n",
            "【M = 4】 training RMSE: 15.80237924347488, testing RMSE: 16.89757156051215\n",
            "【M = 5】 training RMSE: 29.53726827599218, testing RMSE: 42.440672344790585\n",
            "【M = 6】 training RMSE: 32.43550959296301, testing RMSE: 40.7529188036322\n",
            "【M = 7】 training RMSE: 87.63760015570823, testing RMSE: 319.02224436529406\n",
            "【M = 8】 training RMSE: 193.81791697795006, testing RMSE: 660.8978568800047\n",
            "【M = 9】 training RMSE: 1536.8052273719368, testing RMSE: 6049.26710657193\n",
            "\n"
          ],
          "name": "stdout"
        }
      ]
    },
    {
      "cell_type": "code",
      "metadata": {
        "id": "pf8MijOfQXZt",
        "colab": {
          "base_uri": "https://localhost:8080/",
          "height": 403
        },
        "outputId": "9996f15f-0fb5-4d44-9f14-d456b936537f"
      },
      "source": [
        "# plot learning cruve\n",
        "x_axis = range(1, len(total_trian_rmse)+1)\n",
        "plt.figure(figsize=(8,6))\n",
        "plt.plot(x_axis, total_trian_rmse, c='b', label=\"Train\")\n",
        "plt.plot(x_axis, total_test_rmse, c='r', label='Test')\n",
        "plt.title('Learning Curve')\n",
        "plt.xlabel('Degree')\n",
        "plt.ylabel('RMSE')\n",
        "plt.xticks(ticks=x_axis)\n",
        "plt.legend()\n",
        "plt.show()"
      ],
      "execution_count": null,
      "outputs": [
        {
          "output_type": "display_data",
          "data": {
            "image/png": "[encoded data removed]",
            "text/plain": [
              "<Figure size 576x432 with 1 Axes>"
            ]
          },
          "metadata": {
            "tags": [],
            "needs_background": "light"
          }
        }
      ]
    },
    {
      "cell_type": "markdown",
      "metadata": {
        "id": "EO020KUDLXlU"
      },
      "source": [
        "## **2-3 Maximum a posterior approach**\n"
      ]
    },
    {
      "cell_type": "markdown",
      "metadata": {
        "id": "12RQDSlKLlQQ"
      },
      "source": [
        "### (a) Difference between ML and MAP"
      ]
    },
    {
      "cell_type": "markdown",
      "metadata": {
        "id": "pUqf61VcQyTE"
      },
      "source": [
        "ML approach 和 MAP 最大的差別在於 **『MAP 有 prior,因此 MAP 不完全受 Data 的噪音所影響』**\n",
        "\n",
        "ML approach 會完全依照數據給的資訊來找最可能的結果，而 MAP 會結合 prior 資訊和 data 資訊，再根據彼此的權重去加權平均，所以 MAP 的結果會剛好落在 ML 和\n",
        "prior 之間。\n",
        "\n",
        "綜合來說，ML approach 完全仰賴數據所以容易 overfitting ，以至於 model 在 testing set 的表現不太好，除非數據非常大量；\n",
        "\n",
        "相反地，MAP 因為有 prior 的保護，使得其結果不像 ML approach 來得極端。\n"
      ]
    },
    {
      "cell_type": "markdown",
      "metadata": {
        "id": "d6rPycUOLm-d"
      },
      "source": [
        "### (b) Using MAP to retest model in 2-2(b)"
      ]
    },
    {
      "cell_type": "markdown",
      "metadata": {
        "id": "kkngoN6r5UeD"
      },
      "source": [
        "Regularization parameter **Beta = 0.01**"
      ]
    },
    {
      "cell_type": "code",
      "metadata": {
        "id": "t2Tpsb5Xl0hp",
        "colab": {
          "base_uri": "https://localhost:8080/",
          "height": 519,
          "referenced_widgets": [
            "a5424be6375a4bf498c857f30ae9c9f5",
            "375a2c4d75c646e0b05364df0e38cd6a",
            "4d2827e296b249699c95d2db1930202b",
            "3eca743f9cbe48329c32d711266ca637",
            "238244f60e474ddcb871a966d40cfc22",
            "5507efc25936431d91ef28a562246e1e",
            "de3822771a58439a8f13210d679e7b01",
            "3fd1f3da1bf4403a936f317178668ce4"
          ]
        },
        "outputId": "54dba927-69b7-4232-ce40-e59f6b6750fd"
      },
      "source": [
        "X, y = data.values, target.values\n",
        "# preprocessing\n",
        "preprocessing = Preprocessing()\n",
        "X = preprocessing.standar_normalize(X)\n",
        "# Basisfunction\n",
        "basis_fn = Basisfunction(X)\n",
        "X = basis_fn.sigmoid()\n",
        "\n",
        "# k-fold cross-validattion index list\n",
        "kf = KFold(n_splits=3, shuffle=True, random_state=1)\n",
        "training_indices, test_indices = kf.split(X)\n",
        "\n",
        "train_rmse = []\n",
        "test_rmse = []\n",
        "train_rmse_regularization = []\n",
        "test_rmse_regularization = []\n",
        "for m in tqdm(range(1, 10)):\n",
        "    transform = PolynomialFeatures(degree=m)\n",
        "    polynomial_x = transform.fit_transform(X)\n",
        "    x_train, x_test = polynomial_x[train_idx], polynomial_x[test_idx]\n",
        "    y_train, y_test = y[train_idx], y[test_idx]\n",
        "\n",
        "    # create Linear Regression model\n",
        "    model = LinearRegression()\n",
        "    model.fit(x_train, y_train, ls_method=True)\n",
        "    # create Linear Regression model + Regularization(beta)\n",
        "    model_regularization = LinearRegression(beta=0.01)\n",
        "    model_regularization.fit(x_train, y_train, ls_method=True)\n",
        "\n",
        "    # Root-mean square error\n",
        "    train_pred = model.predict(x_train)\n",
        "    test_pred = model.predict(x_test)\n",
        "    train_pred_regularization = model_regularization.predict(x_train)\n",
        "    test_pred_regularization = model_regularization.predict(x_test)\n",
        "    train_rmse.append(rmse(y_train, train_pred))\n",
        "    test_rmse.append(rmse(y_test, test_pred))\n",
        "    train_rmse_regularization.append(rmse(y_train, train_pred_regularization))\n",
        "    test_rmse_regularization.append(rmse(y_test, test_pred_regularization))\n",
        "    \n",
        "    print(f'【no prior M = {m}】 training RMSE: {rmse(y_train, train_pred):.5f}, testing RMSE: {rmse(y_test, test_pred):.5f}')\n",
        "    print(f'【using prior M = {m}】 training RMSE: {rmse(y_train, train_pred_regularization):.5f}, testing RMSE: {rmse(y_test, test_pred_regularization):.5f}')\n",
        "    print()"
      ],
      "execution_count": null,
      "outputs": [
        {
          "output_type": "display_data",
          "data": {
            "application/vnd.jupyter.widget-view+json": {
              "model_id": "a5424be6375a4bf498c857f30ae9c9f5",
              "version_minor": 0,
              "version_major": 2
            },
            "text/plain": [
              "HBox(children=(FloatProgress(value=0.0, max=9.0), HTML(value='')))"
            ]
          },
          "metadata": {
            "tags": []
          }
        },
        {
          "output_type": "stream",
          "text": [
            "【no prior M = 1】 training RMSE: 0.05885, testing RMSE: 0.06595\n",
            "【using prior M = 1】 training RMSE: 0.05885, testing RMSE: 0.06596\n",
            "\n",
            "【no prior M = 2】 training RMSE: 0.05583, testing RMSE: 0.06575\n",
            "【using prior M = 2】 training RMSE: 0.05591, testing RMSE: 0.06554\n",
            "\n",
            "【no prior M = 3】 training RMSE: 0.62854, testing RMSE: 0.65782\n",
            "【using prior M = 3】 training RMSE: 0.05093, testing RMSE: 0.06621\n",
            "\n",
            "【no prior M = 4】 training RMSE: 10.90787, testing RMSE: 11.12608\n",
            "【using prior M = 4】 training RMSE: 0.04883, testing RMSE: 0.06974\n",
            "\n",
            "【no prior M = 5】 training RMSE: 8.01582, testing RMSE: 9.28983\n",
            "【using prior M = 5】 training RMSE: 0.04771, testing RMSE: 0.07303\n",
            "\n",
            "【no prior M = 6】 training RMSE: 41.81095, testing RMSE: 54.84475\n",
            "【using prior M = 6】 training RMSE: 0.04654, testing RMSE: 0.07606\n",
            "\n",
            "【no prior M = 7】 training RMSE: 373.81061, testing RMSE: 776.93226\n",
            "【using prior M = 7】 training RMSE: 0.04532, testing RMSE: 0.07932\n",
            "\n",
            "【no prior M = 8】 training RMSE: 1103.21049, testing RMSE: 3236.48526\n",
            "【using prior M = 8】 training RMSE: 0.04421, testing RMSE: 0.08228\n",
            "\n",
            "【no prior M = 9】 training RMSE: 3485.88905, testing RMSE: 9469.20609\n",
            "【using prior M = 9】 training RMSE: 0.04328, testing RMSE: 0.08441\n",
            "\n",
            "\n"
          ],
          "name": "stdout"
        }
      ]
    },
    {
      "cell_type": "code",
      "metadata": {
        "id": "wYA480yNoraO",
        "colab": {
          "base_uri": "https://localhost:8080/",
          "height": 403
        },
        "outputId": "e17ff7a0-66eb-404c-e781-39b33f942059"
      },
      "source": [
        "# plot learning cruve\n",
        "x_axis = range(1, len(train_rmse)+1)\n",
        "fig, (ax1, ax2) = plt.subplots(1, 2, figsize=(16,6))\n",
        "\n",
        "# no prior \n",
        "ax1.plot(x_axis, train_rmse, c='b', label=\"Train\")\n",
        "ax1.plot(x_axis, test_rmse, c='r', label='Test')\n",
        "ax1.set_title('No prior ')\n",
        "ax1.set_xlabel('Degree')\n",
        "ax1.set_ylabel('RMSE')\n",
        "ax1.set_xticks(ticks=x_axis)\n",
        "ax1.legend()\n",
        "\n",
        "# had prior\n",
        "ax2.plot(x_axis, train_rmse_regularization, c='b', label=\"Train\")\n",
        "ax2.plot(x_axis, test_rmse_regularization, c='r', label='Test')\n",
        "ax2.set_title('Using prior')\n",
        "ax2.set_xlabel('Degree')\n",
        "ax2.set_ylabel('RMSE')\n",
        "ax2.set_xticks(ticks=x_axis)\n",
        "ax2.legend()\n",
        "plt.show()"
      ],
      "execution_count": null,
      "outputs": [
        {
          "output_type": "display_data",
          "data": {
            "image/png": "[encoded data removed]",
            "text/plain": [
              "<Figure size 1152x432 with 2 Axes>"
            ]
          },
          "metadata": {
            "tags": [],
            "needs_background": "light"
          }
        }
      ]
    },
    {
      "cell_type": "markdown",
      "metadata": {
        "id": "ElOKUS4oLnpK"
      },
      "source": [
        "### (c) Compare the result between ML and MAP"
      ]
    },
    {
      "cell_type": "markdown",
      "metadata": {
        "id": "Mp-L9W5cryef"
      },
      "source": [
        "由 (b) 的結果可以發現 MAP 的 training 和 validation **差異變小**了，\n",
        "\n",
        "當沒有 prior 控制時，隨著 polynomial order 越來越大， over-fitting 也越嚴重；\n",
        "\n",
        "當有 prior 控制時，即便 polynomial order 越來越大，雖然一樣會有 over-fitting，但 **over-fitting 的速度很明顯地變慢了 !**\n",
        "\n",
        "從實驗的結果可發現， **prior 確實能保護 model 對新數據進行預測，使得 training set 和 testing set 的準確度不會相差太大**。"
      ]
    }
  ]
}